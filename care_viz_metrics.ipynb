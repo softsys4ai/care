{
 "cells": [
  {
   "cell_type": "code",
   "execution_count": 1,
   "metadata": {},
   "outputs": [],
   "source": [
    "import os\n",
    "import sys\n",
    "import math\n",
    "import numpy as np\n",
    "import pandas as pd\n",
    "import pickle\n",
    "from ananke.graphs import ADMG\n",
    "from ananke.identification import OneLineID\n",
    "from ananke.estimation import CausalEffect\n",
    "from ananke.estimation import AutomatedIF\n",
    "from causallearn.utils.GraphUtils import GraphUtils\n",
    "from sklearn import preprocessing\n",
    "from sklearn.cluster import KMeans\n",
    "import matplotlib.pyplot as plt\n",
    "from matplotlib.lines import Line2D\n",
    "from matplotlib.collections import PolyCollection\n",
    "from matplotlib.legend_handler import HandlerTuple\n",
    "from matplotlib.colors import to_rgb\n",
    "import seaborn as sns"
   ]
  },
  {
   "cell_type": "markdown",
   "metadata": {},
   "source": [
    "#### Load CARE model"
   ]
  },
  {
   "cell_type": "code",
   "execution_count": 2,
   "metadata": {},
   "outputs": [],
   "source": [
    "with open('model/care.model', 'rb') as fp:\n",
    "    care = pickle.load(fp)      \n",
    "vertices = care[0]\n",
    "di_edges = care[1]\n",
    "bi_edges = care[2]\n",
    "G = ADMG(vertices, di_edges=di_edges, bi_edges=bi_edges)\n",
    "# G.draw(direction=\"LR\")"
   ]
  },
  {
   "cell_type": "code",
   "execution_count": 4,
   "metadata": {},
   "outputs": [],
   "source": [
    "# getting ground truth\n",
    "df = pd.read_csv('result/Husky_sim.csv')\n",
    "norm = preprocessing.scale(df.values)\n",
    "df2 = pd.DataFrame(data=norm, columns=df.columns)\n",
    "num_config = 18\n",
    "def get_ground_truth(objective):\n",
    "    total_ace = []\n",
    "    Ql = []\n",
    "    Qu = []\n",
    "    for config in range(num_config):\n",
    "        save_stdout = sys.stdout\n",
    "        sys.stdout = open('trash', 'w')\n",
    "        ace_obj = CausalEffect(graph=G, treatment=vertices[config], outcome=objective)\n",
    "        sys.stdout = save_stdout\n",
    "        ace, ql, qu = ace_obj.compute_effect(df2, \"gformula\", n_bootstraps=5, alpha=0.05)\n",
    "        ace = abs(ace)\n",
    "        Ql.append(ql)\n",
    "        Qu.append(qu)\n",
    "        total_ace.append(ace)    \n",
    "    return sum(total_ace)\n",
    "\n",
    "GT_ms_ace = get_ground_truth('Mission_success')\n",
    "GT_energy_ace = get_ground_truth('Battery_percentage')"
   ]
  },
  {
   "cell_type": "markdown",
   "metadata": {},
   "source": [
    "#### Evaluting Transferability of CARE"
   ]
  },
  {
   "cell_type": "code",
   "execution_count": 3,
   "metadata": {},
   "outputs": [],
   "source": [
    "def eval_care(num_sample, data, objective, act_ace):\n",
    "    all_ace = []\n",
    "    ql = []\n",
    "    qu = []\n",
    "    Config = []\n",
    "    num_config = 18\n",
    "    norm = preprocessing.scale(data.values)\n",
    "    df2 = pd.DataFrame(data=norm, columns=data.columns)\n",
    "    for config in range(num_config):\n",
    "        save_stdout = sys.stdout\n",
    "        sys.stdout = open('trash', 'w')\n",
    "        ace_obj = CausalEffect(graph=G, treatment=vertices[config], outcome=objective)\n",
    "        sys.stdout = save_stdout\n",
    "        ace, Ql, Qu = ace_obj.compute_effect(df2, \"gformula\", n_bootstraps=5, alpha=0.05)\n",
    "        ace = abs(ace)\n",
    "        # Ql = abs(Ql)\n",
    "        # Qu = abs(Qu)\n",
    "        all_ace.append(ace)\n",
    "        ql.append(Ql)\n",
    "        qu.append(Qu)\n",
    "        Config.append(vertices[config])\n",
    "    # ACE, CONFIG = zip(*sorted(zip(all_ace,Config), reverse=True))\n",
    "    pred_ace = sum(all_ace)\n",
    "    yerr = (sum(qu) - sum(ql)) / num_sample\n",
    "    rmse = math.sqrt(((act_ace - pred_ace) ** 2) / num_sample)\n",
    "    \n",
    "    return rmse, yerr"
   ]
  },
  {
   "cell_type": "markdown",
   "metadata": {},
   "source": [
    "##### Evaluating transferibility accross platform"
   ]
  },
  {
   "cell_type": "code",
   "execution_count": 4,
   "metadata": {},
   "outputs": [],
   "source": [
    "## update this values based on the get_ground_truth() function\n",
    "## fixed to avoid random seed\n",
    "act_ace_ms = 1.55 # This is the ground truth computed from husky_sim (original causal model)\n",
    "act_ace_energy = 0.87 # This is the ground truth computed from husky_sim (original causal model)\n",
    "\n",
    "husky_sim = pd.read_csv('result/Husky_sim.csv')\n",
    "husky_physical = pd.read_csv('result/Husky_physical.csv')\n",
    "turtlebot3_physical = pd.read_csv('result/Turtlebot3_physical.csv')\n",
    "\n",
    "sample_size = range(50, 410, 10)\n",
    "\n",
    "# Husky\n",
    "RMSE_ms_sim = []\n",
    "YERR_ms_sim = []\n",
    "RMSE_energy_sim = []\n",
    "YERR_energy_sim = []\n",
    "\n",
    "# RMSE_ms_real = []\n",
    "# YERR_ms_real = []\n",
    "# RMSE_energy_real = []\n",
    "# YERR_energy_real = []\n",
    "\n",
    "# Turtlebot\n",
    "RMSE_ms_real_t = []\n",
    "YERR_ms_real_t = []\n",
    "RMSE_energy_real_t = []\n",
    "YERR_energy_real_t = []\n",
    "\n",
    "# Husky sim\n",
    "for i in sample_size:\n",
    "    rmse, yerr = eval_care(i, data=husky_sim, objective='Mission_success', act_ace=act_ace_ms) \n",
    "    RMSE_ms_sim.append(rmse)\n",
    "    YERR_ms_sim.append(yerr)\n",
    "for i in sample_size:\n",
    "    rmse, yerr = eval_care(i, data=husky_sim, objective='Battery_percentage', act_ace=act_ace_energy) \n",
    "    RMSE_energy_sim.append(rmse)\n",
    "    YERR_energy_sim.append(yerr)    \n",
    "# Husky physical    \n",
    "# for i in sample_size:\n",
    "#     rmse, yerr = eval_care(i, data=husky_physical, objective='Mission_success', act_ace=act_ace_ms) \n",
    "#     RMSE_ms_real.append(rmse)\n",
    "#     YERR_ms_real.append(yerr)    \n",
    "# for i in sample_size:\n",
    "#     rmse, yerr = eval_care(i, data=husky_physical, objective='Battery_percentage', act_ace=act_ace_energy) \n",
    "#     RMSE_energy_real.append(rmse)\n",
    "#     YERR_energy_real.append(yerr)      \n",
    "# Turtlebot3 physical    \n",
    "for i in sample_size:\n",
    "    rmse, yerr = eval_care(i, data=turtlebot3_physical, objective='Mission_success', act_ace=act_ace_ms) \n",
    "    RMSE_ms_real_t.append(rmse)\n",
    "    YERR_ms_real_t.append(yerr)   \n",
    "for i in sample_size:\n",
    "    rmse, yerr = eval_care(i, data=turtlebot3_physical, objective='Battery_percentage', act_ace=act_ace_energy) \n",
    "    RMSE_energy_real_t.append(rmse)\n",
    "    YERR_energy_real_t.append(yerr)          "
   ]
  },
  {
   "cell_type": "code",
   "execution_count": 5,
   "metadata": {},
   "outputs": [],
   "source": [
    "husky_sim_rmse = [x + y for x, y in zip(RMSE_ms_sim, RMSE_energy_sim)]\n",
    "husky_sim_yerr = [x + y for x, y in zip(YERR_ms_sim, YERR_energy_sim)]\n",
    "\n",
    "turtlebot3_phy_rmse = [x + y for x, y in zip(RMSE_ms_real_t, RMSE_energy_real_t)]\n",
    "turtlebot3_phy_yerr = [x + y for x, y in zip(YERR_ms_real_t, YERR_energy_real_t)]"
   ]
  },
  {
   "cell_type": "markdown",
   "metadata": {},
   "source": [
    "##### Ploting the results"
   ]
  },
  {
   "cell_type": "code",
   "execution_count": 8,
   "metadata": {},
   "outputs": [
    {
     "data": {
      "image/png": "[encoded data removed]",
      "text/plain": [
       "<Figure size 324x216 with 1 Axes>"
      ]
     },
     "metadata": {
      "needs_background": "light"
     },
     "output_type": "display_data"
    }
   ],
   "source": [
    "## Mission success\n",
    "plt.rcParams.update({'figure.figsize':(4.5,3)})\n",
    "plt.errorbar(sample_size,husky_sim_rmse, yerr=(husky_sim_yerr) , marker='o', markersize=5,\n",
    "                linestyle='solid', color='b', alpha=0.4, label='Husky simulator')\n",
    "# plt.errorbar(sample_size,RMSE_ms_real, yerr=(YERR_ms_real) , marker='o', markersize=5,\n",
    "#                 linestyle='dotted', color='r', alpha=0.6, label='Husky physical')\n",
    "plt.errorbar(sample_size,turtlebot3_phy_rmse, yerr=(turtlebot3_phy_yerr) , marker='o', markersize=5,\n",
    "                linestyle='dotted', color='r', alpha=0.4, label='Turtlebot3 physical')\n",
    "\n",
    "fontsize = 15\n",
    "labelsize = 15\n",
    "plt.xlabel('Sample Size', fontsize=fontsize)\n",
    "plt.ylabel('RMSE', fontsize=fontsize)\n",
    "plt.xticks(fontsize=labelsize)\n",
    "\n",
    "plt.yticks(fontsize=labelsize)\n",
    "plt.legend(fontsize=fontsize) \n",
    "# plt.yscale('log')\n",
    "plt.ylim(ymin=0)\n",
    "plt.savefig('fig/care_rmse.pdf', dpi=500, bbox_inches='tight')"
   ]
  },
  {
   "attachments": {},
   "cell_type": "markdown",
   "metadata": {},
   "source": [
    "#### Acc. Pre. Re."
   ]
  },
  {
   "cell_type": "code",
   "execution_count": 140,
   "metadata": {},
   "outputs": [
    {
     "data": {
      "image/png": "[encoded data removed]",
      "text/plain": [
       "<Figure size 324x216 with 1 Axes>"
      ]
     },
     "metadata": {
      "needs_background": "light"
     },
     "output_type": "display_data"
    }
   ],
   "source": [
    "husky_acc = 95.55\n",
    "husky_pre = 88.07\n",
    "husky_re = 87.85\n",
    "\n",
    "t_acc = 87.22\n",
    "t_pre = 83.33\n",
    "t_re = 81.71\n",
    "\n",
    "x = np.arange(3)\n",
    "husky = [husky_acc, husky_pre, husky_re]\n",
    "turtlebot3 = [t_acc, t_pre, t_re]\n",
    "\n",
    "width = 0.4\n",
    "# plot data in grouped manner of bar type\n",
    "plt.rcParams.update({'figure.figsize':(4.5,3)})\n",
    "h = plt.bar(x-0.21, husky, width, label='Husky sim.', edgecolor='b', facecolor= 'b', alpha=0.3, linewidth=3.5)\n",
    "plt.bar_label(h,  fontsize=12, label_type='edge', padding=-20)\n",
    "t = plt.bar(x+0.21, turtlebot3, width, label='Turtlebot3 phy.', edgecolor='r', facecolor= 'r', alpha=0.3, linewidth=3.5)\n",
    "plt.bar_label(t,  fontsize=12, label_type='edge', padding=-20)\n",
    "plt.xticks(x, ['Accuracy', 'Precision', 'Recall'])\n",
    "\n",
    "fontsize = 15\n",
    "labelsize = 15\n",
    "# plt.xlabel('Sample Size', fontsize=fontsize)\n",
    "# plt.ylabel('RMSE', fontsize=fontsize)\n",
    "plt.xticks(fontsize=labelsize)\n",
    "\n",
    "plt.yticks(fontsize=labelsize)\n",
    "plt.legend(fontsize=13, bbox_to_anchor=(0, 1.02, 1, 0.2), loc=\"lower left\",\n",
    "                mode=\"expand\", borderaxespad=0, ncol=2, fancybox=False, edgecolor='k') \n",
    "plt.savefig('fig/care_acc.pdf', dpi=500, bbox_inches='tight')"
   ]
  }
 ],
 "metadata": {
  "kernelspec": {
   "display_name": "Python 3.7.0 ('reval')",
   "language": "python",
   "name": "python3"
  },
  "language_info": {
   "codemirror_mode": {
    "name": "ipython",
    "version": 3
   },
   "file_extension": ".py",
   "mimetype": "text/x-python",
   "name": "python",
   "nbconvert_exporter": "python",
   "pygments_lexer": "ipython3",
   "version": "3.7.0"
  },
  "orig_nbformat": 4,
  "vscode": {
   "interpreter": {
    "hash": "9b45344119227afe0f0735acdc57e4394e134a0959bafda1e9c1c8b5cc4a8918"
   }
  }
 },
 "nbformat": 4,
 "nbformat_minor": 2
}
